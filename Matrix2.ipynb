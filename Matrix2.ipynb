{
  "nbformat": 4,
  "nbformat_minor": 0,
  "metadata": {
    "colab": {
      "provenance": [],
      "authorship_tag": "ABX9TyOvZ9uwftyuOXl24qkRYUvT",
      "include_colab_link": true
    },
    "kernelspec": {
      "name": "python3",
      "display_name": "Python 3"
    },
    "language_info": {
      "name": "python"
    }
  },
  "cells": [
    {
      "cell_type": "markdown",
      "metadata": {
        "id": "view-in-github",
        "colab_type": "text"
      },
      "source": [
        "<a href=\"https://colab.research.google.com/github/223T1A3122/DLCOLAB/blob/main/Matrix2.ipynb\" target=\"_parent\"><img src=\"https://colab.research.google.com/assets/colab-badge.svg\" alt=\"Open In Colab\"/></a>"
      ]
    },
    {
      "cell_type": "code",
      "source": [
        "rows=int(input())\n",
        "cols=int(input())\n",
        "mat1=[]\n",
        "mat2=[]\n",
        "for i in range(rows):\n",
        "  arr=list(map(int,input().split()))\n",
        "  mat1.append(arr)\n",
        "for i in range(rows):\n",
        "  arr1=list(map(int,input().split()))\n",
        "  mat2.append(arr1)\n",
        "res=[]\n",
        "for i in range(rows):\n",
        "  row=[]\n",
        "  for j in range(cols):\n",
        "    row.append(mat1[i][j] + mat2[i][j])\n",
        "  res.append(row)\n",
        "  print(res)\n",
        "  print()"
      ],
      "metadata": {
        "colab": {
          "base_uri": "https://localhost:8080/"
        },
        "id": "M0x86ZoIwzYp",
        "outputId": "8d4cf726-10ba-482e-f050-52d1115d9d4c"
      },
      "execution_count": 4,
      "outputs": [
        {
          "output_type": "stream",
          "name": "stdout",
          "text": [
            "3\n",
            "3\n",
            "1 2 3\n",
            "4 5 6\n",
            "7 8 9\n",
            "5 4 9\n",
            "7 5 1\n",
            "3 6 9\n",
            "[[6, 6, 12]]\n",
            "\n",
            "[[6, 6, 12], [11, 10, 7]]\n",
            "\n",
            "[[6, 6, 12], [11, 10, 7], [10, 14, 18]]\n",
            "\n"
          ]
        }
      ]
    },
    {
      "cell_type": "code",
      "source": [
        "rows=int(input())\n",
        "cols=int(input())\n",
        "mat1=[]\n",
        "mat2=[]\n",
        "for i in range(rows):\n",
        "  arr=list(map(int,input().split()))\n",
        "  mat1.append(arr)\n",
        "for i in range(rows):\n",
        "  arr1=list(map(int,input().split()))\n",
        "  mat2.append(arr1)\n",
        "res=[]\n",
        "for i in range(rows):\n",
        "  row=[]\n",
        "  for j in range(cols):\n",
        "    row.append(mat1[i][j] - mat2[i][j])\n",
        "  res.append(row)\n",
        "  print(res)\n",
        "  print()"
      ],
      "metadata": {
        "id": "cxlyF_OJ9UZZ"
      },
      "execution_count": null,
      "outputs": []
    }
  ]
}