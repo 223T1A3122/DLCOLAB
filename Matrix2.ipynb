{
  "nbformat": 4,
  "nbformat_minor": 0,
  "metadata": {
    "colab": {
      "provenance": [],
      "authorship_tag": "ABX9TyMiscYrfl0vBCje42HK2DMw",
      "include_colab_link": true
    },
    "kernelspec": {
      "name": "python3",
      "display_name": "Python 3"
    },
    "language_info": {
      "name": "python"
    }
  },
  "cells": [
    {
      "cell_type": "markdown",
      "metadata": {
        "id": "view-in-github",
        "colab_type": "text"
      },
      "source": [
        "<a href=\"https://colab.research.google.com/github/223T1A3122/DLCOLAB/blob/main/Matrix2.ipynb\" target=\"_parent\"><img src=\"https://colab.research.google.com/assets/colab-badge.svg\" alt=\"Open In Colab\"/></a>"
      ]
    },
    {
      "cell_type": "code",
      "source": [
        "#ADDITION OF MATRICES\n",
        "rows=int(input())\n",
        "cols=int(input())\n",
        "mat1=[]\n",
        "mat2=[]\n",
        "for i in range(rows):\n",
        "  arr=list(map(int,input().split()))\n",
        "  mat1.append(arr)\n",
        "for i in range(rows):\n",
        "  arr1=list(map(int,input().split()))\n",
        "  mat2.append(arr1)\n",
        "res=[]\n",
        "for i in range(rows):\n",
        "  row=[]\n",
        "  for j in range(cols):\n",
        "    row.append(mat1[i][j] + mat2[i][j])\n",
        "  res.append(row)\n",
        "print(res)"
      ],
      "metadata": {
        "colab": {
          "base_uri": "https://localhost:8080/"
        },
        "id": "d6AZvi-6C7EA",
        "outputId": "5eb45cf5-5460-410e-8a77-13ebc71cf488"
      },
      "execution_count": 9,
      "outputs": [
        {
          "output_type": "stream",
          "name": "stdout",
          "text": [
            "2\n",
            "2\n",
            "1   2\n",
            "3     4\n",
            "7   4\n",
            "2     3\n",
            "[[8, 6], [5, 7]]\n"
          ]
        }
      ]
    }
  ]
}